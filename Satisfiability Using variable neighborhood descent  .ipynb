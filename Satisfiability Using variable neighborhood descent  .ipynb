{
  "nbformat": 4,
  "nbformat_minor": 0,
  "metadata": {
    "colab": {
      "provenance": []
    },
    "kernelspec": {
      "name": "python3",
      "display_name": "Python 3"
    },
    "language_info": {
      "name": "python"
    }
  },
  "cells": [
    {
      "cell_type": "code",
      "execution_count": null,
      "metadata": {
        "id": "-5w5T2QFLP3z"
      },
      "outputs": [],
      "source": [
        "import random\n",
        "from itertools import combinations"
      ]
    },
    {
      "cell_type": "code",
      "source": [
        "# Evaluate function to count satisfied clauses\n",
        "def evaluate(clauses, assignment):\n",
        "    satisfied_clauses = 0\n",
        "    for clause in clauses:\n",
        "        if any((literal > 0 and assignment[abs(literal) - 1] == 1) or\n",
        "               (literal < 0 and assignment[abs(literal) - 1] == 0)\n",
        "               for literal in clause):\n",
        "            satisfied_clauses += 1\n",
        "    return satisfied_clauses\n"
      ],
      "metadata": {
        "id": "D3NS2TynNOA_"
      },
      "execution_count": null,
      "outputs": []
    },
    {
      "cell_type": "code",
      "source": [
        "# Heuristic function to find the best variable to flip\n",
        "def heuristic(clauses, assignment):\n",
        "    counts = [0] * len(assignment)\n",
        "    for clause in clauses:\n",
        "        for literal in clause:\n",
        "            if not any((literal > 0 and assignment[abs(literal) - 1] == 1) or\n",
        "                       (literal < 0 and assignment[abs(literal) - 1] == 0)\n",
        "                       for literal in clause):\n",
        "                counts[abs(literal) - 1] += 1\n",
        "    return counts.index(max(counts)) + 1\n"
      ],
      "metadata": {
        "id": "sRIzAATyNRhK"
      },
      "execution_count": null,
      "outputs": []
    },
    {
      "cell_type": "code",
      "source": [
        "# Move generation function to generate neighboring states\n",
        "def moveGen(state, perturb):\n",
        "    moves = []\n",
        "    n = len(state)\n",
        "    if perturb > n or perturb == 0:\n",
        "        return moves\n",
        "    indices = [i for i in range(n)]\n",
        "    comb = combinations(indices, perturb)\n",
        "    for i in comb:\n",
        "        new_state = state[:]\n",
        "        for j in i:\n",
        "            new_state[j] = (new_state[j] ^ 1)\n",
        "        moves.append(new_state)\n",
        "    return moves\n"
      ],
      "metadata": {
        "id": "yIf5c7RCNULM"
      },
      "execution_count": null,
      "outputs": []
    },
    {
      "cell_type": "code",
      "source": [
        "# VND algorithm for solving SAT\n",
        "def vnd(clauses, initial_assignment):\n",
        "    assignment = initial_assignment\n",
        "    while True:\n",
        "        for i in range(1, len(assignment) + 1):\n",
        "            moves = moveGen(assignment, i)\n",
        "            for move in moves:\n",
        "                if evaluate(clauses, move) > evaluate(clauses, assignment):\n",
        "                    assignment = move\n",
        "                    break\n",
        "            else:\n",
        "                continue\n",
        "            break\n",
        "        else:\n",
        "            return assignment\n"
      ],
      "metadata": {
        "id": "G-2Y2FLcNUqy"
      },
      "execution_count": null,
      "outputs": []
    },
    {
      "cell_type": "code",
      "source": [
        "def get_user_input():\n",
        "    num_clauses = int(input(\"Enter the number of clauses: \"))\n",
        "    clauses = []\n",
        "    for _ in range(num_clauses):\n",
        "        clause = list(map(int, input(f\"Enter clause {_ + 1} (e.g., '1 -2 3'): \").split()))\n",
        "        clauses.append(clause)\n",
        "    assignment = list(map(int, input(\"Enter the initial variable assignment (e.g., '1 0 1' for A=1, B=0, C=1): \").split()))\n",
        "    return clauses, assignment\n"
      ],
      "metadata": {
        "id": "IMl2jy48NXMa"
      },
      "execution_count": null,
      "outputs": []
    },
    {
      "cell_type": "code",
      "source": [
        "def test_evaluate_user_input():\n",
        "    clauses, assignment = get_user_input()\n",
        "    satisfied_clauses = evaluate(clauses, assignment)\n",
        "    print(f\"Number of satisfied clauses: {satisfied_clauses}\")\n"
      ],
      "metadata": {
        "id": "rvu8NCZ2Nc3j"
      },
      "execution_count": null,
      "outputs": []
    },
    {
      "cell_type": "code",
      "source": [
        "if __name__ == \"__main__\":\n",
        "    clauses, initial_assignment = get_user_input()\n",
        "    print(\"Initial Assignment:\", initial_assignment)\n",
        "\n",
        "    solution = vnd(clauses, initial_assignment)\n",
        "\n",
        "    print(\"\\nSolution Assignment:\", solution)\n",
        "    print(\"Satisfied Clauses:\", evaluate(clauses, solution))\n"
      ],
      "metadata": {
        "colab": {
          "base_uri": "https://localhost:8080/"
        },
        "id": "ktgKWvT5NgRN",
        "outputId": "655c0a02-615b-4aff-8d37-534cdb5e5edb"
      },
      "execution_count": null,
      "outputs": [
        {
          "output_type": "stream",
          "name": "stdout",
          "text": [
            "Enter the number of clauses: 6\n",
            "Enter clause 1 (e.g., '1 -2 3'): 1 -2\n",
            "Enter clause 2 (e.g., '1 -2 3'): 2 -3\n",
            "Enter clause 3 (e.g., '1 -2 3'): -2\n",
            "Enter clause 4 (e.g., '1 -2 3'): -3 5\n",
            "Enter clause 5 (e.g., '1 -2 3'): 1 3\n",
            "Enter clause 6 (e.g., '1 -2 3'): -3 -4\n",
            "Enter the initial variable assignment (e.g., '1 0 1' for A=1, B=0, C=1): 0 0 0 0 0\n",
            "Initial Assignment: [0, 0, 0, 0, 0]\n",
            "\n",
            "Solution Assignment: [1, 0, 0, 0, 0]\n",
            "Satisfied Clauses: 6\n"
          ]
        }
      ]
    }
  ]
}