{
  "nbformat": 4,
  "nbformat_minor": 0,
  "metadata": {
    "colab": {
      "provenance": []
    },
    "kernelspec": {
      "name": "python3",
      "display_name": "Python 3"
    },
    "language_info": {
      "name": "python"
    }
  },
  "cells": [
    {
      "cell_type": "markdown",
      "source": [
        
      ],
      "metadata": {
        "id": "JSml0EoiwTqM"
      }
    },
    {
      "cell_type": "code",
      "source": [
        "def moveGen(state, jug_capacity_1, jug_capacity_2, jug_capacity_3):\n",
        "    moves = []\n",
        "    # Fill Jug 1\n",
        "    if state[0] < jug_capacity_1:\n",
        "        moves.append((jug_capacity_1, state[1], state[2]))\n",
        "    # Fill Jug 2\n",
        "    if state[1] < jug_capacity_2:\n",
        "        moves.append((state[0], jug_capacity_2, state[2]))\n",
        "    # Fill Jug 3\n",
        "    if state[2] < jug_capacity_3:\n",
        "        moves.append((state[0], state[1], jug_capacity_3))\n",
        "    # Empty Jug 1\n",
        "    if state[0] > 0:\n",
        "        moves.append((0, state[1], state[2]))\n",
        "    # Empty Jug 2\n",
        "    if state[1] > 0:\n",
        "        moves.append((state[0], 0, state[2]))\n",
        "    # Empty Jug 3\n",
        "    if state[2] > 0:\n",
        "        moves.append((state[0], state[1], 0))\n",
        "    # Transfer Jug 1 to Jug 2\n",
        "    transfer = min(state[0], jug_capacity_2 - state[1])\n",
        "    if transfer > 0:\n",
        "        moves.append((state[0] - transfer, state[1] + transfer, state[2]))\n",
        "    # Transfer Jug 1 to Jug 3\n",
        "    transfer = min(state[0], jug_capacity_3 - state[2])\n",
        "    if transfer > 0:\n",
        "        moves.append((state[0] - transfer, state[1], state[2] + transfer))\n",
        "    # Transfer Jug 2 to Jug 1\n",
        "    transfer = min(state[1], jug_capacity_1 - state[0])\n",
        "    if transfer > 0:\n",
        "        moves.append((state[0] + transfer, state[1] - transfer, state[2]))\n",
        "    # Transfer Jug 2 to Jug 3\n",
        "    transfer = min(state[1], jug_capacity_3 - state[2])\n",
        "    if transfer > 0:\n",
        "        moves.append((state[0], state[1] - transfer, state[2] + transfer))\n",
        "    # Transfer Jug 3 to Jug 1\n",
        "    transfer = min(state[2], jug_capacity_1 - state[0])\n",
        "    if transfer > 0:\n",
        "        moves.append((state[0] + transfer, state[1], state[2] - transfer))\n",
        "    # Transfer Jug 3 to Jug 2\n",
        "    transfer = min(state[2], jug_capacity_2 - state[1])\n",
        "    if transfer > 0:\n",
        "        moves.append((state[0], state[1] + transfer, state[2] - transfer))\n",
        "    return moves\n",
        "\n",
        "def isGoalState(state, goal):\n",
        "    return state[0] == goal or state[1] == goal or state[2] == goal\n",
        "\n",
        "def getPath(close, state):\n",
        "    path = []\n",
        "    while state:\n",
        "        path.append(state)\n",
        "        state = close[state]\n",
        "    return path[::-1]\n",
        "\n",
        "def waterJugs(jug_capacity_1, jug_capacity_2, jug_capacity_3, goal):\n",
        "    start_state = (0, 0, 0)\n",
        "    stack = []\n",
        "    close = {}\n",
        "    stack.append(start_state)\n",
        "    close[start_state] = None\n",
        "    while stack:\n",
        "        state = stack.pop()\n",
        "        if isGoalState(state, goal):\n",
        "            return getPath(close, state)\n",
        "        moves = moveGen(state, jug_capacity_1, jug_capacity_2, jug_capacity_3)\n",
        "        for move in moves:\n",
        "            if move in close:\n",
        "                continue\n",
        "            stack.append(move)\n",
        "            close[move] = state\n",
        "    return \"Not Possible\"\n",
        "\n",
        "if __name__ == \"__main__\":\n",
        "    jug_capacity_1 = int(input(\"Enter the capacity of jug 1: \"))\n",
        "    jug_capacity_2 = int(input(\"Enter the capacity of jug 2: \"))\n",
        "    jug_capacity_3 = int(input(\"Enter the capacity of jug 3: \"))\n",
        "    goal = int(input(\"Enter the goal volume: \"))\n",
        "\n",
        "    result = waterJugs(jug_capacity_1, jug_capacity_2, jug_capacity_3, goal)\n",
        "    if result == \"Not Possible\":\n",
        "        print(result)\n",
        "    else:\n",
        "        print(f\"Steps to achieve {goal} liters:\")\n",
        "        for step in result:\n",
        "            print(step)\n"
      ],
      "metadata": {
        "colab": {
          "base_uri": "https://localhost:8080/"
        },
        "id": "3-TYwV7euegn",
        "outputId": "74e2cc5a-7b79-4bf6-bc5d-c61ac07ba5b1"
      },
      "execution_count": null,
      "outputs": [
        {
          "output_type": "stream",
          "name": "stdout",
          "text": [
            "Enter the capacity of jug 1: 8\n",
            "Enter the capacity of jug 2: 5\n",
            "Enter the capacity of jug 3: 3\n",
            "Enter the goal volume: 4\n",
            "Steps to achieve 4 liters:\n",
            "(0, 0, 0)\n",
            "(0, 0, 3)\n",
            "(0, 3, 0)\n",
            "(0, 3, 3)\n",
            "(0, 5, 1)\n",
            "(1, 5, 0)\n",
            "(1, 2, 3)\n",
            "(4, 2, 0)\n"
          ]
        }
      ]
    },
    {
      "cell_type": "markdown",
      "source": [
        "The moveGen function generates all possible states by filling, emptying, or transferring water between two jugs.\n",
        "The isGoalState function checks if the current state matches the desired goal volume in either of the jugs.\n",
        "The solution is printed step by step after finding the goal state."
      ],
      "metadata": {
        "id": "G2mqaOeavso9"
      }
    },
    {
      "cell_type": "code",
      "execution_count": null,
      "metadata": {
        "colab": {
          "base_uri": "https://localhost:8080/"
        },
        "id": "J3HJmQrZMGJh",
        "outputId": "bedc230a-67f9-4304-cc54-36c6b31b1e2c"
      },
      "outputs": [
        {
          "output_type": "stream",
          "name": "stdout",
          "text": [
            "Solution found:\n",
            "[1, 2, 3]\n",
            "[4, 0, 6]\n",
            "[7, 5, 8]\n",
            "\n",
            "[1, 2, 3]\n",
            "[4, 5, 6]\n",
            "[7, 0, 8]\n",
            "\n",
            "[1, 2, 3]\n",
            "[4, 5, 6]\n",
            "[7, 8, 0]\n",
            "\n"
          ]
        }
      ],
      "source": [
        "import heapq\n",
        "\n",
        "class PuzzleState:\n",
        "    def __init__(self, board, zero_pos, moves=0, previous=None):\n",
        "        self.board = board\n",
        "        self.zero_pos = zero_pos\n",
        "        self.moves = moves\n",
        "        self.previous = previous\n",
        "\n",
        "    def __lt__(self, other):\n",
        "        return (self.moves + self.heuristic()) < (other.moves + other.heuristic())\n",
        "\n",
        "    def heuristic(self):\n",
        "        distance = 0\n",
        "        for i in range(3):\n",
        "            for j in range(3):\n",
        "                value = self.board[i][j]\n",
        "                if value != 0:\n",
        "                    target_x = (value - 1) // 3\n",
        "                    target_y = (value - 1) % 3\n",
        "                    distance += abs(i - target_x) + abs(j - target_y)\n",
        "        return distance\n",
        "\n",
        "    def get_possible_moves(self):\n",
        "        moves = []\n",
        "        x, y = self.zero_pos\n",
        "        directions = [(-1, 0), (1, 0), (0, -1), (0, 1)]\n",
        "        for dx, dy in directions:\n",
        "            new_x, new_y = x + dx, y + dy\n",
        "            if 0 <= new_x < 3 and 0 <= new_y < 3:\n",
        "                new_board = [row[:] for row in self.board]\n",
        "                new_board[x][y], new_board[new_x][new_y] = new_board[new_x][new_y], new_board[x][y]\n",
        "                moves.append(PuzzleState(new_board, (new_x, new_y), self.moves + 1, self))\n",
        "        return moves\n",
        "\n",
        "def a_star(start_state, goal_state):\n",
        "    start_board = PuzzleState(start_state, find_zero(start_state))\n",
        "    goal_board = tuple(tuple(row) for row in goal_state)\n",
        "\n",
        "    visited = set()\n",
        "    pq = []\n",
        "    heapq.heappush(pq, start_board)\n",
        "\n",
        "    while pq:\n",
        "        current = heapq.heappop(pq)\n",
        "        current_tuple = tuple(tuple(row) for row in current.board)\n",
        "\n",
        "        if current_tuple in visited:\n",
        "            continue\n",
        "        visited.add(current_tuple)\n",
        "\n",
        "        if current_tuple == goal_board:\n",
        "            return reconstruct_path(current)\n",
        "\n",
        "        for next_state in current.get_possible_moves():\n",
        "            next_tuple = tuple(tuple(row) for row in next_state.board)\n",
        "            if next_tuple not in visited:\n",
        "                heapq.heappush(pq, next_state)\n",
        "\n",
        "    return None\n",
        "\n",
        "def find_zero(board):\n",
        "    for i in range(3):\n",
        "        for j in range(3):\n",
        "            if board[i][j] == 0:\n",
        "                return (i, j)\n",
        "    return None\n",
        "\n",
        "def reconstruct_path(state):\n",
        "    path = []\n",
        "    while state:\n",
        "        path.append(state.board)\n",
        "        state = state.previous\n",
        "    return path[::-1]\n",
        "\n",
        "start_state = [\n",
        "    [1, 2, 3],\n",
        "    [4, 0, 6],\n",
        "    [7, 5, 8]\n",
        "]\n",
        "\n",
        "goal_state = [\n",
        "    [1, 2, 3],\n",
        "    [4, 5, 6],\n",
        "    [7, 8, 0]\n",
        "]\n",
        "\n",
        "solution = a_star(start_state, goal_state)\n",
        "if solution:\n",
        "    print(\"Solution found:\")\n",
        "    for step in solution:\n",
        "        for row in step:\n",
        "            print(row)\n",
        "        print()\n",
        "else:\n",
        "    print(\"No solution found.\")\n"
      ]
    },
    {
      "cell_type": "markdown",
      "source": [
        "The PuzzleState class includes a get_possible_moves method to generate new states by moving the blank space.\n",
        "The isGoalState function checks if the current board configuration matches the goal state.\n",
        "The solution path is printed step by step after finding the goal state using the A* algorithm.\n",
        "\n",
        "\n",
        "\n",
        "\n"
      ],
      "metadata": {
        "id": "b2QjYYfwwAi2"
      }
    },
    {
      "cell_type": "code",
      "source": [
        "import numpy as np\n",
        "import random\n",
        "\n",
        "# Example distance matrix\n",
        "distance_matrix = np.array([\n",
        "    [0, 2, 9, 10],\n",
        "    [1, 0, 6, 4],\n",
        "    [15, 7, 0, 8],\n",
        "    [6, 3, 12, 0]\n",
        "])\n",
        "\n",
        "def total_distance(tour):\n",
        "    \"\"\"Calculate the total distance of the tour.\"\"\"\n",
        "    distance = 0\n",
        "    n = len(tour)\n",
        "    for i in range(n):\n",
        "        distance += distance_matrix[tour[i], tour[(i + 1) % n]]\n",
        "    return distance\n",
        "\n",
        "def moveGen(tour):\n",
        "    \"\"\"Generate neighbors by swapping two cities.\"\"\"\n",
        "    neighbors = []\n",
        "    n = len(tour)\n",
        "    for i in range(n):\n",
        "        for j in range(i + 1, n):\n",
        "            if i != j:\n",
        "                new_tour = tour[:]\n",
        "                new_tour[i], new_tour[j] = new_tour[j], new_tour[i]\n",
        "                neighbors.append(new_tour)\n",
        "    return neighbors\n",
        "\n",
        "def hill_climbing(initial_tour):\n",
        "    \"\"\"Perform Hill Climbing to find the shortest tour.\"\"\"\n",
        "    current_tour = initial_tour\n",
        "    current_distance = total_distance(current_tour)\n",
        "\n",
        "    while True:\n",
        "        neighbors = moveGen(current_tour)\n",
        "        next_tour = min(neighbors, key=total_distance)\n",
        "        next_distance = total_distance(next_tour)\n",
        "\n",
        "        if next_distance >= current_distance:\n",
        "            break  # No improvement, so exit\n",
        "\n",
        "        current_tour = next_tour\n",
        "        current_distance = next_distance\n",
        "\n",
        "    return current_tour, current_distance\n",
        "\n",
        "# Example usage\n",
        "initial_tour = list(range(len(distance_matrix)))  # Start with a simple tour\n",
        "random.shuffle(initial_tour)  # Randomly shuffle to get a starting point\n",
        "\n",
        "best_tour, best_distance = hill_climbing(initial_tour)\n",
        "\n",
        "print(\"Best tour:\", best_tour)\n",
        "print(\"Total distance:\", best_distance)\n"
      ],
      "metadata": {
        "id": "zJO-_SpLOnGM",
        "outputId": "d66f9514-4855-44df-8a84-aae5b54d44bc",
        "colab": {
          "base_uri": "https://localhost:8080/"
        }
      },
      "execution_count": null,
      "outputs": [
        {
          "output_type": "stream",
          "name": "stdout",
          "text": [
            "Best tour: [2, 3, 1, 0]\n",
            "Total distance: 21\n"
          ]
        }
      ]
    },
    {
      "cell_type": "markdown",
      "source": [
        "The moveGen function generates neighbors by swapping pairs of cities in the current tour.\n",
        "The isGoalState function checks if the tour includes all cities.\n",
        "The best tour and its total distance are printed after performing the hill climbing algorithm."
      ],
      "metadata": {
        "id": "wA2SvD3BwM75"
      }
    }
  ]
}
