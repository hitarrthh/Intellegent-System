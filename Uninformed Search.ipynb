{
  "nbformat": 4,
  "nbformat_minor": 0,
  "metadata": {
    "colab": {
      "provenance": []
    },
    "kernelspec": {
      "name": "python3",
      "display_name": "Python 3"
    },
    "language_info": {
      "name": "python"
    }
  },
  "cells": [
    {
      "cell_type": "markdown",
      "source": [
        
      ],
      "metadata": {
        "id": "ZBK2ykl3D-PT"
      }
    },
    {
      "cell_type": "code",
      "execution_count": null,
      "metadata": {
        "id": "hmOty3byAWw0"
      },
      "outputs": [],
      "source": [
        "import numpy as np\n",
        "import pandas as pd\n",
        "import matplotlib.pyplot as plt\n",
        "from collections import Counter"
      ]
    },
    {
      "cell_type": "code",
      "source": [
        "# move gen --> for next move or successor\n",
        "\n",
        "def move_gen(state):\n",
        "    succ = []\n",
        "    pos = state.index(0)  # position of blank tile\n",
        "    possible_moves = { 0: [1, 3],\n",
        "                       1: [0, 2, 4],\n",
        "                       2: [1, 5],\n",
        "                       3: [0, 4, 6],\n",
        "                       4: [1, 3, 5, 7],\n",
        "                       5: [2, 4, 8],\n",
        "                       6: [3, 7],\n",
        "                       7: [4, 6, 8],\n",
        "                       8: [5, 7]\n",
        "                      }\n",
        "\n",
        "    for i in possible_moves[pos]:\n",
        "        new_state = state.copy()\n",
        "        new_state[pos], new_state[i] = new_state[i], new_state[pos]\n",
        "        succ.append(new_state)\n",
        "\n",
        "    return succ"
      ],
      "metadata": {
        "id": "XmxN7NTrApYn"
      },
      "execution_count": null,
      "outputs": []
    },
    {
      "cell_type": "code",
      "source": [
        "\"\"\"state=[]\n",
        "for i in range(9):\n",
        "  state.append(int(input()))\n",
        "successors = move_gen(state)\n",
        "for i in successors:\n",
        "    print(i)\n",
        "    \"\"\""
      ],
      "metadata": {
        "colab": {
          "base_uri": "https://localhost:8080/",
          "height": 36
        },
        "id": "3pzbINTRHTGj",
        "outputId": "a5f36768-3a6b-45cc-fdd1-a776a36b04f1"
      },
      "execution_count": null,
      "outputs": [
        {
          "output_type": "execute_result",
          "data": {
            "text/plain": [
              "'state=[]\\nfor i in range(9):\\n  state.append(int(input()))\\nsuccessors = move_gen(state)\\nfor i in successors:\\n    print(i)\\n    '"
            ],
            "application/vnd.google.colaboratory.intrinsic+json": {
              "type": "string"
            }
          },
          "metadata": {},
          "execution_count": 52
        }
      ]
    },
    {
      "cell_type": "code",
      "source": [
        "def goal_state(state):\n",
        "    goal = [\n",
        "        1, 2, 3,\n",
        "        4, 5, 6,\n",
        "        7, 8, 0\n",
        "    ]\n",
        "    return state == goal\n"
      ],
      "metadata": {
        "id": "IGEgviEFIXoQ"
      },
      "execution_count": null,
      "outputs": []
    },
    {
      "cell_type": "code",
      "source": [
        "def make_pair(state):\n",
        "  pairs = []\n",
        "  for child in move_gen(state):\n",
        "    # Make Pairs of child and its parent (it makes all the possible pairs)\n",
        "    pairs.append((child,state))\n",
        "  return pairs\n"
      ],
      "metadata": {
        "id": "dMqtk9axJrnT"
      },
      "execution_count": null,
      "outputs": []
    },
    {
      "cell_type": "code",
      "source": [
        "def occr_in(pairs):\n",
        "    #Count occurrences of each child state in the list of state pairs\n",
        "    # Extract child states from the pairs\n",
        "    child_states = [pair[0] for pair in pairs]\n",
        "    # Convert child states to tuples for counting\n",
        "    child_state_tuples = [tuple(child) for child in child_states]\n",
        "    # Count occurrences\n",
        "    return dict(Counter(child_state_tuples))\n"
      ],
      "metadata": {
        "id": "YbDH9MjqLA2K"
      },
      "execution_count": null,
      "outputs": []
    },
    {
      "cell_type": "code",
      "source": [
        "def remove_seen(state,seen):\n",
        "  \"\"\"seen = ()\n",
        "  new_state = []\n",
        "  for check in state:\n",
        "    state_tuple = tuple(state)\n",
        "    if state_tuple not in seen:\n",
        "      seen.add(state_tuple)\n",
        "      new_state.append(state)\n",
        "  return seen\"\"\"\n",
        "  return (st for st in state if st not in seen)"
      ],
      "metadata": {
        "id": "smQ599-UPGK1"
      },
      "execution_count": null,
      "outputs": []
    },
    {
      "cell_type": "code",
      "source": [
        "def reconstruct(parent_map, goal_state):\n",
        "    path = []\n",
        "    current_state = tuple(goal_state)  # Convert to tuple for immutability and hashing\n",
        "\n",
        "    # Trace back from the goal state to the start state\n",
        "    while current_state in parent_map:\n",
        "        path.append(current_state)\n",
        "        current_state = parent_map[current_state]\n",
        "\n",
        "    # Add the start state to the path\n",
        "    path.append(current_state)\n",
        "\n",
        "    # Reverse the path to get it from start to goal\n",
        "    path.reverse()\n",
        "    return path"
      ],
      "metadata": {
        "id": "ptKRUyQNSIxi"
      },
      "execution_count": null,
      "outputs": []
    },
    {
      "cell_type": "code",
      "source": [
        "def main():\n",
        "    # Define the predefined start state and goal state\n",
        "    start_state =[]\n",
        "    goal_state_input = [1, 2, 3, 8, 0, 4, 7, 6, 5]\n",
        "    for i in range(9):\n",
        "      start_state.append(int(input()))\n",
        "    successors = move_gen(start_state)\n",
        "    for i in successors:\n",
        "      print(i)\n",
        "\n",
        "    print(\"start state:\")\n",
        "    print(start_state)\n",
        "\n",
        "    print(\"Goal state:\")\n",
        "    print(goal_state_input)\n",
        "\n",
        "    # Check if initial state is already the goal state\n",
        "    if goal_state(start_state):\n",
        "        print(\"The initial state is already the goal state.\")\n",
        "        return\n",
        "\n",
        "    # Initialize structures for search\n",
        "    seen = set()\n",
        "    parent_map = {}\n",
        "    queue = deque([start_state])\n",
        "    seen.add(tuple(start_state))\n",
        "\n",
        "    found = False\n",
        "\n",
        "    while queue:\n",
        "        current_state = queue.popleft()\n",
        "\n",
        "        # Generate successor states\n",
        "        for next_state in move_gen(current_state):\n",
        "            state_tuple = tuple(next_state)\n",
        "            if state_tuple not in seen:\n",
        "                seen.add(state_tuple)\n",
        "                queue.append(next_state)\n",
        "                parent_map[state_tuple] = tuple(current_state)  # Record the parent state\n",
        "\n",
        "                # Check if goal state is reached\n",
        "                if next_state == goal_state_input:\n",
        "                    path = reconstruct(parent_map, next_state)\n",
        "                    print(\"Path to goal state:\")\n",
        "                    for step in path:\n",
        "                        print(list(step))\n",
        "                    found = True\n",
        "                    break\n",
        "        if found:\n",
        "            break\n",
        "\n",
        "    if not found:\n",
        "        print(\"No solution found.\")\n",
        "\n",
        "if __name__ == \"__main__\":\n",
        "    main()"
      ],
      "metadata": {
        "colab": {
          "base_uri": "https://localhost:8080/"
        },
        "id": "sNNaKjTgSglb",
        "outputId": "cc748964-d163-4b0a-8562-bddc93718bb5"
      },
      "execution_count": null,
      "outputs": [
        {
          "output_type": "stream",
          "name": "stdout",
          "text": [
            "1\n",
            "2\n",
            "3\n",
            "4\n",
            "5\n",
            "6\n",
            "8\n",
            "0\n",
            "7\n",
            "[1, 2, 3, 4, 0, 6, 8, 5, 7]\n",
            "[1, 2, 3, 4, 5, 6, 0, 8, 7]\n",
            "[1, 2, 3, 4, 5, 6, 8, 7, 0]\n",
            "start state:\n",
            "[1, 2, 3, 4, 5, 6, 8, 0, 7]\n",
            "Goal state:\n",
            "[1, 2, 3, 8, 0, 4, 7, 6, 5]\n",
            "Path to goal state:\n",
            "[1, 2, 3, 4, 5, 6, 8, 0, 7]\n",
            "[1, 2, 3, 4, 5, 6, 8, 7, 0]\n",
            "[1, 2, 3, 4, 5, 0, 8, 7, 6]\n",
            "[1, 2, 3, 4, 0, 5, 8, 7, 6]\n",
            "[1, 2, 3, 0, 4, 5, 8, 7, 6]\n",
            "[1, 2, 3, 8, 4, 5, 0, 7, 6]\n",
            "[1, 2, 3, 8, 4, 5, 7, 0, 6]\n",
            "[1, 2, 3, 8, 4, 5, 7, 6, 0]\n",
            "[1, 2, 3, 8, 4, 0, 7, 6, 5]\n",
            "[1, 2, 3, 8, 0, 4, 7, 6, 5]\n"
          ]
        }
      ]
    }
  ]
}
