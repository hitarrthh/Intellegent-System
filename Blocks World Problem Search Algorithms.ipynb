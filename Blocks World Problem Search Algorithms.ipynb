{
  "cells": [
    {
      "cell_type": "code",
      "execution_count": 26,
      "metadata": {
        "id": "Eovu2xEjFeeg"
      },
      "outputs": [],
      "source": [
        "import pandas as pd\n",
        "import numpy as np\n",
        "import matplotlib.pyplot as plt\n",
        "from collections import deque\n",
        "import itertools\n",
        "from queue import PriorityQueue"
      ]
    },
    {
      "cell_type": "code",
      "execution_count": 27,
      "metadata": {
        "id": "K7t98_-IYTYF"
      },
      "outputs": [],
      "source": [
        "def user_defined_states():\n",
        "    def input_state(prompt):\n",
        "        print(f\"Enter the {prompt} state:\")\n",
        "        num_stacks = int(input(\"Enter the number of stacks: \"))\n",
        "        state = []\n",
        "        for i in range(num_stacks):\n",
        "            stack = input(f\"Enter the blocks in stack {i+1} separated by spaces (top to bottom): \").split()\n",
        "            state.append(stack)\n",
        "        return state\n",
        "\n",
        "    start_state = input_state(\"start\")\n",
        "    goal_state = input_state(\"goal\")\n",
        "\n",
        "    return start_state, goal_state"
      ]
    },
    {
      "cell_type": "code",
      "execution_count": 28,
      "metadata": {
        "id": "L_ityGtjZYgj"
      },
      "outputs": [],
      "source": [
        "def moveGen(state, goal_state):\n",
        "    moves = []\n",
        "    num_stacks = len(state)\n",
        "\n",
        "    for i, stack in enumerate(state):\n",
        "        if not stack:\n",
        "            continue  # Skip empty stacks\n",
        "        for j in range(num_stacks):\n",
        "            if i != j:\n",
        "                new_state = [s[:] for s in state]\n",
        "                block = new_state[i].pop()\n",
        "                new_state[j].append(block)\n",
        "                moves.append(new_state)\n",
        "\n",
        "    return moves"
      ]
    },
    {
      "cell_type": "code",
      "execution_count": 29,
      "metadata": {
        "id": "y8FtevQzbIzN"
      },
      "outputs": [],
      "source": [
        "def heuristic(state, goal_state):\n",
        "    L1 = 0  # Position-based heuristic\n",
        "    L2 = 0  # Structure-based heuristic\n",
        "\n",
        "    for i in range(len(state)):\n",
        "        for j in range(len(state[i])):\n",
        "            if j < len(goal_state[i]) and state[i][j] == goal_state[i][j]:\n",
        "                L1 += 1\n",
        "            else:\n",
        "                L1 -= 1\n",
        "\n",
        "        if state[i] == goal_state[i]:\n",
        "            L2 += len(state[i])\n",
        "        else:\n",
        "            L2 -= len(state[i])\n",
        "\n",
        "    return L1, L2\n"
      ]
    },
    {
      "cell_type": "code",
      "execution_count": 30,
      "metadata": {
        "id": "v8uPUlX8bPFg"
      },
      "outputs": [],
      "source": [
        "def best_first_search(start_state, goal_state):\n",
        "    pq = PriorityQueue()\n",
        "    pq.put((0, start_state))\n",
        "    visited = set()\n",
        "    iteration = 0\n",
        "\n",
        "    while not pq.empty():\n",
        "        _, current_state = pq.get()\n",
        "        iteration += 1\n",
        "        print(f\"Iteration {iteration}: Current state: {current_state}\")\n",
        "        L1, L2 = heuristic(current_state, goal_state)\n",
        "        print(f\" Heuristic values -> L1: {L1}, L2: {L2}\")\n",
        "\n",
        "        if current_state == goal_state:\n",
        "            return current_state\n",
        "        visited.add(tuple(map(tuple, current_state)))\n",
        "        neighbors = moveGen(current_state, goal_state)\n",
        "        for neighbor in neighbors:\n",
        "            if tuple(map(tuple, neighbor)) not in visited:\n",
        "                score = sum(heuristic(neighbor, goal_state))\n",
        "                pq.put((-score, neighbor))  # We use negative score because PriorityQueue is min-heap\n",
        "\n",
        "    return None\n"
      ]
    },
    {
      "cell_type": "code",
      "execution_count": 31,
      "metadata": {
        "id": "_VHeGScUbSWg"
      },
      "outputs": [],
      "source": [
        "def hill_climbing(start_state, goal_state):\n",
        "    current_state = start_state\n",
        "    iteration = 0\n",
        "    while current_state != goal_state:\n",
        "        iteration += 1\n",
        "        print(f\"Iteration {iteration}: Current state: {current_state}\")\n",
        "        L1, L2 = heuristic(current_state, goal_state)\n",
        "        print(f\" Heuristic values -> L1: {L1}, L2: {L2}\")\n",
        "\n",
        "        neighbors = moveGen(current_state, goal_state)\n",
        "        next_state = max(neighbors, key=lambda state: sum(heuristic(state, goal_state)))\n",
        "        if sum(heuristic(next_state, goal_state)) <= sum(heuristic(current_state, goal_state)):\n",
        "            break  # Local maximum reached\n",
        "        current_state = next_state\n",
        "\n",
        "    return current_state\n"
      ]
    },
    {
      "cell_type": "code",
      "execution_count": 32,
      "metadata": {
        "colab": {
          "base_uri": "https://localhost:8080/"
        },
        "id": "iVKW6ob7bV4S",
        "outputId": "77ebde95-5388-440f-c659-7eccf9cd6570"
      },
      "outputs": [
        {
          "name": "stdout",
          "output_type": "stream",
          "text": [
            "Enter the start state:\n",
            "Enter the number of stacks: 3\n",
            "Enter the blocks in stack 1 separated by spaces (top to bottom): A B C D\n",
            "Enter the blocks in stack 2 separated by spaces (top to bottom): E F\n",
            "Enter the blocks in stack 3 separated by spaces (top to bottom): \n",
            "Enter the goal state:\n",
            "Enter the number of stacks: 3\n",
            "Enter the blocks in stack 1 separated by spaces (top to bottom): A E B C D \n",
            "Enter the blocks in stack 2 separated by spaces (top to bottom): F\n",
            "Enter the blocks in stack 3 separated by spaces (top to bottom): \n",
            "\n",
            "--- Hill Climbing with Combined Heuristic ---\n",
            "Iteration 1: Current state: [['A', 'B', 'C', 'D'], ['E', 'F'], []]\n",
            " Heuristic values -> L1: -4, L2: -6\n",
            "Final state using Hill Climbing with Combined Heuristic: [['A', 'B', 'C', 'D'], ['E', 'F'], []]\n",
            "Final heuristic values (L1, L2): (-4, -6)\n",
            "\n",
            "--- Best First Search with Combined Heuristic ---\n",
            "Iteration 1: Current state: [['A', 'B', 'C', 'D'], ['E', 'F'], []]\n",
            " Heuristic values -> L1: -4, L2: -6\n",
            "Iteration 2: Current state: [['A', 'B', 'C'], ['E', 'F'], ['D']]\n",
            " Heuristic values -> L1: -4, L2: -6\n",
            "Iteration 3: Current state: [['A', 'B'], ['E', 'F'], ['D', 'C']]\n",
            " Heuristic values -> L1: -4, L2: -6\n",
            "Iteration 4: Current state: [['A'], ['E', 'F'], ['D', 'C', 'B']]\n",
            " Heuristic values -> L1: -4, L2: -6\n",
            "Iteration 5: Current state: [['A'], ['E'], ['D', 'C', 'B', 'F']]\n",
            " Heuristic values -> L1: -4, L2: -6\n",
            "Iteration 6: Current state: [['A', 'E'], [], ['D', 'C', 'B', 'F']]\n",
            " Heuristic values -> L1: -2, L2: -6\n",
            "Iteration 7: Current state: [['A', 'E'], ['F'], ['D', 'C', 'B']]\n",
            " Heuristic values -> L1: 0, L2: -4\n",
            "Iteration 8: Current state: [['A', 'E', 'B'], ['F'], ['D', 'C']]\n",
            " Heuristic values -> L1: 2, L2: -4\n",
            "Iteration 9: Current state: [['A', 'E', 'B', 'C'], ['F'], ['D']]\n",
            " Heuristic values -> L1: 4, L2: -4\n",
            "Iteration 10: Current state: [['A', 'E', 'B', 'C', 'D'], ['F'], []]\n",
            " Heuristic values -> L1: 6, L2: 6\n",
            "Final state using Best First Search with Combined Heuristic: [['A', 'E', 'B', 'C', 'D'], ['F'], []]\n",
            "Final heuristic values (L1, L2): (6, 6)\n"
          ]
        }
      ],
      "source": [
        "def main():\n",
        "    # Get user-defined start and goal states\n",
        "    start_state, goal_state = user_defined_states()\n",
        "\n",
        "    # Run Hill Climbing with Combined Heuristic\n",
        "    print(\"\\n--- Hill Climbing with Combined Heuristic ---\")\n",
        "    final_state_hill_climbing = hill_climbing(start_state, goal_state)\n",
        "    final_heuristic_hill_climbing = heuristic(final_state_hill_climbing, goal_state)\n",
        "    print(\"Final state using Hill Climbing with Combined Heuristic:\", final_state_hill_climbing)\n",
        "    print(\"Final heuristic values (L1, L2):\", final_heuristic_hill_climbing)\n",
        "\n",
        "    # Run Best First Search with Combined Heuristic\n",
        "    print(\"\\n--- Best First Search with Combined Heuristic ---\")\n",
        "    final_state_bfs_combined = best_first_search(start_state, goal_state)\n",
        "    final_heuristic_bfs_combined = heuristic(final_state_bfs_combined, goal_state)\n",
        "    print(\"Final state using Best First Search with Combined Heuristic:\", final_state_bfs_combined)\n",
        "    print(\"Final heuristic values (L1, L2):\", final_heuristic_bfs_combined)\n",
        "\n",
        "# Run the main function\n",
        "if __name__ == \"__main__\":\n",
        "    main()\n"
      ]
    }
  ],
  "metadata": {
    "colab": {
      "provenance": []
    },
    "kernelspec": {
      "display_name": "Python 3",
      "name": "python3"
    },
    "language_info": {
      "name": "python"
    }
  },
  "nbformat": 4,
  "nbformat_minor": 0
}
