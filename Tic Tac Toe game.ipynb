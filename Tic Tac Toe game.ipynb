{
  "nbformat": 4,
  "nbformat_minor": 0,
  "metadata": {
    "colab": {
      "provenance": []
    },
    "kernelspec": {
      "name": "python3",
      "display_name": "Python 3"
    },
    "language_info": {
      "name": "python"
    }
  },
  "cells": [
    {
      "cell_type": "code",
      "execution_count": 11,
      "metadata": {
        "id": "EuqFActEZd0b"
      },
      "outputs": [],
      "source": [
        "import numpy as np\n",
        "import math"
      ]
    },
    {
      "cell_type": "code",
      "source": [
        "def print_board(board):\n",
        "    for row in board:\n",
        "        print(\" | \".join(row))\n",
        "        print(\"-\" * 10)\n"
      ],
      "metadata": {
        "id": "EcBjkr8kaTbu"
      },
      "execution_count": 12,
      "outputs": []
    },
    {
      "cell_type": "code",
      "source": [
        "def check_winner(board):\n",
        "    for row in board:\n",
        "        if row[0] == row[1] == row[2] and row[0] != ' ':\n",
        "            return row[0]\n",
        "\n",
        "    for col in range(3):\n",
        "        if board[0][col] == board[1][col] == board[2][col] and board[0][col] != ' ':\n",
        "            return board[0][col]\n",
        "\n",
        "    if board[0][0] == board[1][1] == board[2][2] and board[0][0] != ' ':\n",
        "        return board[0][0]\n",
        "    if board[0][2] == board[1][1] == board[2][0] and board[0][2] != ' ':\n",
        "        return board[0][2]\n",
        "\n",
        "    return None\n"
      ],
      "metadata": {
        "id": "2WdOEttia75W"
      },
      "execution_count": 13,
      "outputs": []
    },
    {
      "cell_type": "code",
      "source": [
        "def check_full(board):\n",
        "    return all(cell != ' ' for row in board for cell in row)"
      ],
      "metadata": {
        "id": "nslNfjrEd0k0"
      },
      "execution_count": 14,
      "outputs": []
    },
    {
      "cell_type": "code",
      "source": [
        "def minimax(board, depth, maxmin, alpha, beta):\n",
        "    winner = check_winner(board)\n",
        "    if winner == 'X':\n",
        "        return -10 + depth  # Only 9 levels possible\n",
        "    elif winner == 'O':\n",
        "        return 10 - depth\n",
        "    elif check_full(board):\n",
        "        return 0  # Draw\n",
        "\n",
        "    if maxmin:\n",
        "        max_val = -math.inf\n",
        "        for i in range(3):\n",
        "            for j in range(3):\n",
        "                if board[i][j] == ' ':\n",
        "                    board[i][j] = 'O'  # AI player is 'O'\n",
        "                    eval = minimax(board, depth+1, False, alpha, beta)\n",
        "                    board[i][j] = ' '\n",
        "                    max_val = max(max_val, eval)\n",
        "                    alpha = max(alpha, eval)\n",
        "                    if beta <= alpha:\n",
        "                        break\n",
        "        return max_val\n",
        "    else:\n",
        "        min_val = math.inf\n",
        "        for i in range(3):\n",
        "            for j in range(3):\n",
        "                if board[i][j] == ' ':\n",
        "                    board[i][j] = 'X'  # User player is 'X'\n",
        "                    eval = minimax(board, depth+1, True, alpha, beta)\n",
        "                    board[i][j] = ' '\n",
        "                    min_val = min(min_val, eval)\n",
        "                    beta = min(beta, eval)\n",
        "                    if beta <= alpha:\n",
        "                        break\n",
        "        return min_val\n"
      ],
      "metadata": {
        "id": "mEtwppI8fG3w"
      },
      "execution_count": 15,
      "outputs": []
    },
    {
      "cell_type": "code",
      "source": [
        "def best_move(board):\n",
        "    best_val = -math.inf\n",
        "    move = (-1, -1)\n",
        "    for i in range(3):\n",
        "        for j in range(3):\n",
        "            if board[i][j] == ' ':\n",
        "                board[i][j] = 'O'\n",
        "                move_val = minimax(board, 0, False, -math.inf, math.inf)\n",
        "                board[i][j] = ' '\n",
        "                if move_val > best_val:\n",
        "                    best_val = move_val\n",
        "                    move = (i, j)\n",
        "    return move\n"
      ],
      "metadata": {
        "id": "wzV-_iXWjtMH"
      },
      "execution_count": 16,
      "outputs": []
    },
    {
      "cell_type": "code",
      "source": [
        "def user_move(board):\n",
        "    while True:\n",
        "        try:\n",
        "            move = input(\"Enter your move as 'row,col' (0-based): \")\n",
        "            row, col = map(int, move.split(\",\"))\n",
        "            if board[row][col] == ' ':\n",
        "                return row, col\n",
        "            else:\n",
        "                print(\"Cell is already occupied. Try again.\")\n",
        "        except (ValueError, IndexError):\n",
        "            print(\"Invalid input. Please enter row and column as 'row,col'.\")\n"
      ],
      "metadata": {
        "id": "d_yMxLxUm3Sk"
      },
      "execution_count": 17,
      "outputs": []
    },
    {
      "cell_type": "code",
      "source": [
        "def main():\n",
        "    board = [[' ' for _ in range(3)] for _ in range(3)]\n",
        "\n",
        "    first_player = input('DO YOU WISH TO PLAY FIRST (y/n)').lower()\n",
        "    if first_player == 'y':\n",
        "        current_player = 'X'\n",
        "    else:\n",
        "        current_player = 'O'\n",
        "        print('AI IS PLAYING')\n",
        "        row, col = best_move(board)\n",
        "        board[row][col] = current_player\n",
        "        print_board(board)\n",
        "\n",
        "    while True:\n",
        "        print_board(board)\n",
        "        if current_player == 'X':\n",
        "            row, col = user_move(board)\n",
        "        else:\n",
        "            print(\"AI IS PLAYING\")\n",
        "            row, col = best_move(board)\n",
        "\n",
        "        board[row][col] = current_player\n",
        "        winner = check_winner(board)\n",
        "\n",
        "        if winner:\n",
        "            print_board(board)\n",
        "            print(f\"{winner} WINS!\")\n",
        "            break\n",
        "        elif check_full(board):\n",
        "            print_board(board)\n",
        "            print(\"IT'S A DRAW!\")\n",
        "            break\n",
        "\n",
        "        current_player = 'O' if current_player == 'X' else 'X'\n",
        "\n",
        "if __name__ == \"__main__\":\n",
        "    main()\n"
      ],
      "metadata": {
        "colab": {
          "base_uri": "https://localhost:8080/"
        },
        "id": "2W7LrayextJI",
        "outputId": "e8278f93-678b-4fd6-d701-33b099e7778b"
      },
      "execution_count": 18,
      "outputs": [
        {
          "output_type": "stream",
          "name": "stdout",
          "text": [
            "DO YOU WISH TO PLAY FIRST (y/n)y\n",
            "  |   |  \n",
            "----------\n",
            "  |   |  \n",
            "----------\n",
            "  |   |  \n",
            "----------\n",
            "Enter your move as 'row,col' (0-based): 0,0\n",
            "X |   |  \n",
            "----------\n",
            "  |   |  \n",
            "----------\n",
            "  |   |  \n",
            "----------\n",
            "AI IS PLAYING\n",
            "X |   |  \n",
            "----------\n",
            "  | O |  \n",
            "----------\n",
            "  |   |  \n",
            "----------\n",
            "Enter your move as 'row,col' (0-based): 0,2\n",
            "X |   | X\n",
            "----------\n",
            "  | O |  \n",
            "----------\n",
            "  |   |  \n",
            "----------\n",
            "AI IS PLAYING\n",
            "X | O | X\n",
            "----------\n",
            "  | O |  \n",
            "----------\n",
            "  |   |  \n",
            "----------\n",
            "Enter your move as 'row,col' (0-based): 2,1\n",
            "X | O | X\n",
            "----------\n",
            "  | O |  \n",
            "----------\n",
            "  | X |  \n",
            "----------\n",
            "AI IS PLAYING\n",
            "X | O | X\n",
            "----------\n",
            "O | O |  \n",
            "----------\n",
            "  | X |  \n",
            "----------\n",
            "Enter your move as 'row,col' (0-based): 1,2\n",
            "X | O | X\n",
            "----------\n",
            "O | O | X\n",
            "----------\n",
            "  | X |  \n",
            "----------\n",
            "AI IS PLAYING\n",
            "X | O | X\n",
            "----------\n",
            "O | O | X\n",
            "----------\n",
            "  | X | O\n",
            "----------\n",
            "Enter your move as 'row,col' (0-based): 2,0\n",
            "X | O | X\n",
            "----------\n",
            "O | O | X\n",
            "----------\n",
            "X | X | O\n",
            "----------\n",
            "IT'S A DRAW!\n"
          ]
        }
      ]
    }
  ]
}